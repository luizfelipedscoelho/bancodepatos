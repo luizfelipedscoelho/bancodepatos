{
  "nbformat": 4,
  "nbformat_minor": 0,
  "metadata": {
    "colab": {
      "provenance": []
    },
    "kernelspec": {
      "name": "python3",
      "display_name": "Python 3"
    },
    "language_info": {
      "name": "python"
    }
  },
  "cells": [
    {
      "cell_type": "markdown",
      "source": [
        "### aluno: **Luiz Felipe da Silva Coelho**"
      ],
      "metadata": {
        "id": "1nRc-uFfaSeD"
      }
    },
    {
      "cell_type": "markdown",
      "source": [
        "# Trabalho de Banco de Dados II"
      ],
      "metadata": {
        "id": "tJCKJhKIamtJ"
      }
    },
    {
      "cell_type": "markdown",
      "source": [
        "# Parte 1: inicialização e importações\n",
        "REFERÊNCIA PRINCIPAL (material em construção): https://docs.google.com/presentation/d/1iIXPOhn2TSm5y5Rf5hiI46GTef1E2gKi/edit?usp=sharing&ouid=105327427325994478755&rtpof=true&sd=true\n",
        "\n",
        "Vamos juntar o que vocês já enviaram de PI3 com a atividade de revisão que fizemos algumas aulas atrás (link a seguir)\n",
        "https://docs.google.com/document/d/1bXAUHBfzFwRp2Rsxn4-Afhm_yPm3Pz1DhQtp_CZz-JQ\n",
        "\n",
        "Crie um novo script do Google Colab, e comece definindo as funções de execução de queries que vimos nas últimas aulas."
      ],
      "metadata": {
        "id": "QhUgNCIMZ80Y"
      }
    },
    {
      "cell_type": "code",
      "execution_count": 4,
      "metadata": {
        "id": "4EQf3ZSpZlrN"
      },
      "outputs": [],
      "source": [
        "import sqlite3\n",
        "from sqlite3 import Error\n",
        "\n",
        "## Função de alteração (insert, update, delete...)\n",
        "def execute_query(connection, query):\n",
        "    cursor = connection.cursor()\n",
        "    try:\n",
        "        cursor.execute(query)\n",
        "        connection.commit()\n",
        "        print(f\"Query {query.split('(')[0].strip()} executada.\")\n",
        "        if cursor.rowcount != -1: print(f\"{cursor.rowcount} linha(s) afetadas\")\n",
        "\n",
        "    except Error as e:\n",
        "        print(f\"Erro: '{e}'\")\n",
        "\n",
        "\n",
        "# Função de leitura de dados (select)\n",
        "def execute_read_query(connection, query):\n",
        "    cursor = connection.cursor()\n",
        "    result = None\n",
        "    try:\n",
        "        cursor.execute(query)\n",
        "        result = cursor.fetchall()\n",
        "\n",
        "        return result\n",
        "    except Error as e:\n",
        "        print(f\"Erro: '{e}'\")"
      ]
    },
    {
      "cell_type": "markdown",
      "source": [
        "# Parte 2: Tabela do Prisma Ed\n",
        "\n",
        "Abra a célula de código que corresponde à sua equipe de PI3, nela estará o SQL de criação de tabelas que foi enviado por vocês em atividades anteriores. Copie o código de execução para o seu script."
      ],
      "metadata": {
        "id": "4kzJRlSFazFq"
      }
    },
    {
      "cell_type": "code",
      "source": [
        "connection = sqlite3.connect(\"prisma.sqlite\")\n",
        "\n",
        "query = \"\"\"\n",
        "create Table Turma(\n",
        "  Codigo varchar(10) not null  primary key,\n",
        "  Curso varchar(20) not null,\n",
        "  Periodo int not null\n",
        ");\n",
        "\"\"\"\n",
        "execute_query(connection, query)\n",
        "\n",
        "query = \"\"\"\n",
        "create Table Aluno(\n",
        "  RA varchar(7) not null,\n",
        "  CodigoTurma varchar(10) not null,\n",
        "  Nome text not null,\n",
        "  DataNasc date not null,\n",
        "\n",
        "  primary key(RA, CodigoTurma),\n",
        "  foreign key(CodigoTurma) references Turma(Codigo) on delete restrict\n",
        ");\n",
        "\"\"\"\n",
        "execute_query(connection, query)\n",
        "\n",
        "query = \"\"\"\n",
        "create Table ContatoDoAluno(\n",
        "  RAAluno varchar(7) not null primary key,\n",
        "  contato text not null,\n",
        "\n",
        "  foreign key(RAAluno) references Aluno(RA) on delete cascade\n",
        ");\n",
        "\"\"\"\n",
        "execute_query(connection, query)\n",
        "\n",
        "query = \"\"\"\n",
        "create Table Professor(\n",
        "  ID varchar(8) not null primary key\n",
        ");\n",
        "\"\"\"\n",
        "execute_query(connection, query)\n",
        "\n",
        "query = \"\"\"\n",
        "create Table ContatoDoProfessor(\n",
        "  IDProfessor varchar(8) not null primary key,\n",
        "  contato text not null,\n",
        "\n",
        "  foreign key(IDProfessor) references Professor(ID) on delete cascade\n",
        ");\n",
        "\"\"\"\n",
        "execute_query(connection, query)\n",
        "\n",
        "query = \"\"\"\n",
        "create Table ProfessorLecionaEmTurma(\n",
        "  IDProfessor varchar(8) not null,\n",
        "  CodigoTurma varchar(10) not null,\n",
        "  Disciplina text not null,\n",
        "\n",
        "  primary key(IDProfessor, CodigoTurma),\n",
        "  foreign key(IDProfessor) references Professor(ID) on delete restrict,\n",
        "  foreign key(CodigoTurma) references Turma(Codigo) on delete restrict\n",
        ");\n",
        "\"\"\"\n",
        "execute_query(connection, query)\n",
        "\n",
        "query = \"\"\"\n",
        "create Table Questionario(\n",
        "  NumeroRef integer not null primary key autoincrement\n",
        ");\n",
        "\"\"\"\n",
        "execute_query(connection, query)\n",
        "\n",
        "query = \"\"\"\n",
        "create Table AlunoRespondeQuestionario(\n",
        "  RAAluno varchar(7) not null,\n",
        "  NumeroRefQuestionario integer not null,\n",
        "  DataResposta date not null,\n",
        "\n",
        "  primary key(RAAluno, NumeroRefQuestionario),\n",
        "  foreign key(RAAluno) references Aluno(RA) on delete cascade,\n",
        "  foreign key(NumeroRefQuestionario) references Questionario(NumeroRef) on delete restrict\n",
        ");\n",
        "\"\"\"\n",
        "execute_query(connection, query)\n",
        "\n",
        "query = \"INSERT INTO Turma(Codigo, Curso, Periodo) VALUES ('0123456789', 'Informatica','Primeiro Ano');\"\n",
        "execute_query(connection, query)\n",
        "\n",
        "query = \"INSERT INTO Aluno(RA, CodigoTurma, Nome, DataNasc) VALUES ('0123456', '0123456789', 'Maria Lúcia da Silva Rodrigues', '2006-09-17');\"\n",
        "execute_query(connection, query)\n",
        "\n",
        "query = \"INSERT INTO ContatoDoAluno(RAAluno, contato) VALUES ('0123456','nomedoaluno@gmail.com');\"\n",
        "execute_query(connection, query)\n",
        "\n",
        "query = \"INSERT INTO Professor(ID) VALUES ('6543210');\"\n",
        "execute_query(connection, query)\n",
        "\n",
        "query = \"INSERT INTO ContatoDoProfessor(IDProfessor, contato) VALUES ('6543210','nomeprofessor@gmail.com');\"\n",
        "execute_query(connection, query)\n",
        "\n",
        "query = \"INSERT INTO  ProfessorLecionaEmTurma(IDProfessor, CodigoTurma, Disciplina) VALUES ('6543210','0123456789', 'Banco de Dados');\"\n",
        "execute_query(connection, query)\n",
        "\n",
        "query = \"INSERT INTO  AlunoRespondeQuestionario(RAAluno, NumeroRefQuestionario, DataResposta) VALUES ('0123456','2', '2025-05-13');\"\n",
        "execute_query(connection, query)"
      ],
      "metadata": {
        "colab": {
          "base_uri": "https://localhost:8080/"
        },
        "id": "E6g4-aK3eE6Z",
        "outputId": "1f7a50f4-d6a2-47c1-eeee-a065bd44ea65"
      },
      "execution_count": 5,
      "outputs": [
        {
          "output_type": "stream",
          "name": "stdout",
          "text": [
            "Query create Table Turma executada.\n",
            "Query create Table Aluno executada.\n",
            "Query create Table ContatoDoAluno executada.\n",
            "Query create Table Professor executada.\n",
            "Query create Table ContatoDoProfessor executada.\n",
            "Query create Table ProfessorLecionaEmTurma executada.\n",
            "Query create Table Questionario executada.\n",
            "Query create Table AlunoRespondeQuestionario executada.\n",
            "Query INSERT INTO Turma executada.\n",
            "1 linha(s) afetadas\n",
            "Query INSERT INTO Aluno executada.\n",
            "1 linha(s) afetadas\n",
            "Query INSERT INTO ContatoDoAluno executada.\n",
            "1 linha(s) afetadas\n",
            "Query INSERT INTO Professor executada.\n",
            "1 linha(s) afetadas\n",
            "Query INSERT INTO ContatoDoProfessor executada.\n",
            "1 linha(s) afetadas\n",
            "Query INSERT INTO  ProfessorLecionaEmTurma executada.\n",
            "1 linha(s) afetadas\n",
            "Query INSERT INTO  AlunoRespondeQuestionario executada.\n",
            "1 linha(s) afetadas\n"
          ]
        }
      ]
    },
    {
      "cell_type": "markdown",
      "source": [
        "# Atividade 01\n",
        "\n",
        "Crie duas consultas relevantes para sua aplicação em PI3 que tenham, pelo menos, uma função de agregação em cada. Para cada consulta, descreva a ação esperada (ex.: contar participantes em um evento) e justifique o contexto na aplicação de PI3 (ex.: funcionalidade do back-end para checar se já atingiu o limite de vagas do evento).\n",
        "\n",
        "CONSULTA 1\n",
        "\n",
        "Objetivo da consulta (contexto de PI3): Usar esse número para calcular a porcentagem dos estilos de aprendizagem em relação as respostas já existentes;\n",
        "\n",
        "Descrição da ação esperada ao rodar a consulta: Contar quantos alunos de uma turma já responderam o questionário.\n"
      ],
      "metadata": {
        "id": "6uplcmJKc_DM"
      }
    },
    {
      "cell_type": "code",
      "source": [
        "query = \"\"\"\n",
        "SELECT t.codigo, COUNT(a.RA)\n",
        "FROM AlunoRespondeQuestionario r INNER JOIN Aluno a ON r.RAAluno = a.RA\n",
        "                                 INNER JOIN Turma t ON t.codigo = a.CodigoTurma\n",
        "GROUP BY t.codigo;\n",
        "\"\"\"\n",
        "execute_query(connection, query)"
      ],
      "metadata": {
        "colab": {
          "base_uri": "https://localhost:8080/"
        },
        "id": "J2skqztodUAK",
        "outputId": "0becfa02-95de-4d9b-924a-9f7e285df4ce"
      },
      "execution_count": 6,
      "outputs": [
        {
          "output_type": "stream",
          "name": "stdout",
          "text": [
            "Query SELECT t.codigo, COUNT executada.\n"
          ]
        }
      ]
    },
    {
      "cell_type": "markdown",
      "source": [
        "CONSULTA 2\n",
        "\n",
        "Objetivo da consulta (contexto de PI3): Contar quantos alunos existem numa turma.\n",
        "\n",
        "Descrição da ação esperada ao rodar a consulta: Obter o valor referente ao denominador da turma para calculos de porcentagem."
      ],
      "metadata": {
        "id": "csSwcCcEdbrw"
      }
    },
    {
      "cell_type": "code",
      "source": [
        "query = \"\"\"\n",
        "SELECT t.codigo, COUNT(a.RA)\n",
        "FROM TURMA t INNER JOIN Aluno a ON t.codigo = a.codigoTurma\n",
        "GROUP BY t.codigo;\n",
        "\"\"\"\n",
        "execute_query(connection, query)"
      ],
      "metadata": {
        "id": "g1CynEQFdgrI",
        "colab": {
          "base_uri": "https://localhost:8080/"
        },
        "outputId": "e91a333a-35a0-4857-b280-1d6ce831ac91"
      },
      "execution_count": 7,
      "outputs": [
        {
          "output_type": "stream",
          "name": "stdout",
          "text": [
            "Query SELECT t.codigo, COUNT executada.\n"
          ]
        }
      ]
    },
    {
      "cell_type": "markdown",
      "source": [
        "# Atividade 02"
      ],
      "metadata": {
        "id": "3XvqfUEyn8cX"
      }
    },
    {
      "cell_type": "markdown",
      "source": [
        "No que seria útil:\n",
        "\n",
        "- Uma **View**? | Para consultar quantos alunos existem numa turma(já que esse número é o denominador);\n",
        "\n",
        "- Uma **Procedure**? | Hospedar um select com dados sobre um estilo de aprendizagem fornecido como parâmetro;\n",
        "\n",
        "- Uma **Function**? | Hospedar um select com dados sobre um estilo de aprendizagem fornecido como parâmetro e retornar se é ou não a maioria na sala;\n",
        "\n",
        "- Um **Trigger**? | Exibir na tela o estilo predominante de uma turma assim que o professor entrar numa aba específica da turma."
      ],
      "metadata": {
        "id": "b4IUcMEaoC5W"
      }
    }
  ]
}